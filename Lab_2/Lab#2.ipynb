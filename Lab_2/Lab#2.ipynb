{
 "cells": [
  {
   "cell_type": "code",
   "execution_count": 15,
   "metadata": {},
   "outputs": [
    {
     "name": "stdout",
     "output_type": "stream",
     "text": [
      "Lines: 4\n",
      "Words: 2\n",
      "Characters: 369\n"
     ]
    }
   ],
   "source": [
    "# 231522965\n",
    "# Muhammad Ali Awan\n",
    "# COMP-111-B\n",
    "\n",
    "# Lab 2 \n",
    "\n",
    "#! Question 1\n",
    "\n",
    "def wc(filename):\n",
    "\n",
    "    fileData = open(filename, 'r', encoding=\"utf8\").read()\n",
    "\n",
    "    print('Lines:',len(fileData.splitlines()))\n",
    "    print('Words:',len(fileData.split(fileData)))\n",
    "    print('Characters:',len(fileData))\n",
    "\n",
    "wc('sample.txt')"
   ]
  }
 ],
 "metadata": {
  "interpreter": {
   "hash": "2d6a15abcc8b33eefd0a4bf8ece12874120c0c51d0ba4c77cc8fa3a0f491b6db"
  },
  "kernelspec": {
   "display_name": "Python 3.10.3 64-bit (windows store)",
   "language": "python",
   "name": "python3"
  },
  "language_info": {
   "codemirror_mode": {
    "name": "ipython",
    "version": 3
   },
   "file_extension": ".py",
   "mimetype": "text/x-python",
   "name": "python",
   "nbconvert_exporter": "python",
   "pygments_lexer": "ipython3",
   "version": "3.10.4"
  },
  "orig_nbformat": 4
 },
 "nbformat": 4,
 "nbformat_minor": 2
}
