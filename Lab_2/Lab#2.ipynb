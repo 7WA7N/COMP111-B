{
 "cells": [
  {
   "cell_type": "code",
   "execution_count": null,
   "metadata": {},
   "outputs": [],
   "source": [
    "# 231522965\n",
    "# Muhammad Ali Awan\n",
    "# COMP-111-B\n",
    "\n",
    "# Lab 2 \n"
   ]
  },
  {
   "cell_type": "code",
   "execution_count": null,
   "metadata": {},
   "outputs": [],
   "source": [
    "\n",
    "#! Question 1\n",
    "\n",
    "def wc(filename):\n",
    "\n",
    "    fileData = open(filename, 'r', encoding=\"utf8\").read()\n",
    "\n",
    "    print('Lines:',len(fileData.splitlines()))\n",
    "    print('Words:',len(fileData.split(fileData)))\n",
    "    print('Characters:',len(fileData))\n",
    "\n",
    "wc('sample.txt')"
   ]
  },
  {
   "cell_type": "code",
   "execution_count": null,
   "metadata": {},
   "outputs": [],
   "source": [
    "\n",
    "#! Question 2 \n",
    "\n",
    "def square1(x):\n",
    "    return x*x\n",
    "\n",
    "def square2(x):\n",
    "    print(x*x)\n",
    "\n",
    "a = square1(4)\n",
    "b = square2(4)"
   ]
  },
  {
   "cell_type": "code",
   "execution_count": null,
   "metadata": {},
   "outputs": [],
   "source": [
    "\n",
    "#! Question 3 \n",
    "\n",
    "def summation(n): \n",
    "    total, k = 0, 1 \n",
    "    while k <= n: \n",
    "        total, k = total + k*k*k, k + 1 \n",
    "    return total \n",
    "result = summation (3)"
   ]
  },
  {
   "cell_type": "code",
   "execution_count": null,
   "metadata": {},
   "outputs": [],
   "source": [
    "\n",
    "#! Question 4\n",
    "\n",
    "x = 5\n",
    "def square(x):\n",
    " return x*x\n",
    "def double(x):\n",
    " return square(x+1) - square(x) - 1\n",
    "double(x)\n"
   ]
  }
 ],
 "metadata": {
  "interpreter": {
   "hash": "2d6a15abcc8b33eefd0a4bf8ece12874120c0c51d0ba4c77cc8fa3a0f491b6db"
  },
  "kernelspec": {
   "display_name": "Python 3.10.3 64-bit (windows store)",
   "language": "python",
   "name": "python3"
  },
  "language_info": {
   "codemirror_mode": {
    "name": "ipython",
    "version": 3
   },
   "file_extension": ".py",
   "mimetype": "text/x-python",
   "name": "python",
   "nbconvert_exporter": "python",
   "pygments_lexer": "ipython3",
   "version": "3.10.4"
  },
  "orig_nbformat": 4
 },
 "nbformat": 4,
 "nbformat_minor": 2
}
