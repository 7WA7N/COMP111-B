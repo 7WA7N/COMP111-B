{
 "cells": [
  {
   "cell_type": "code",
   "execution_count": null,
   "metadata": {},
   "outputs": [],
   "source": [
    "# 231522965\n",
    "# Muhammad Ali Awan\n",
    "# COMP-111-B\n",
    "\n",
    "# Lab 1 "
   ]
  },
  {
   "cell_type": "code",
   "execution_count": 22,
   "metadata": {},
   "outputs": [
    {
     "name": "stdout",
     "output_type": "stream",
     "text": [
      "Year is 34\n"
     ]
    }
   ],
   "source": [
    "# Question 1 \n",
    "rate = int(input(\"Enter Rate\"))\n",
    "initialAmount = 1 \n",
    "year = 0 \n",
    "total = 0\n",
    "\n",
    "\n",
    "while total <= initialAmount*2:\n",
    "    interest = (rate * initialAmount * 1)/100\n",
    "    total = total + interest\n",
    "    year += 1\n",
    "    continue\n",
    "print('Year is', year)"
   ]
  },
  {
   "cell_type": "code",
   "execution_count": 59,
   "metadata": {},
   "outputs": [
    {
     "name": "stdout",
     "output_type": "stream",
     "text": [
      "5 is a Prime Number\n",
      "2 is a Prime Number\n",
      "4 isn't a Prime Number\n"
     ]
    }
   ],
   "source": [
    "# Question 2 \n",
    "\n",
    "from math import sqrt\n",
    "\n",
    "def isPrime(n):\n",
    "    prime_check = 0\n",
    "\n",
    "    if(n > 1):\n",
    "        for i in range(2, int(sqrt(n)) + 1):\n",
    "            if (n % i == 0):\n",
    "                prime_check = 1\n",
    "                break\n",
    "        if (prime_check == 0):\n",
    "            print(n,\"is a Prime Number\")\n",
    "        else:\n",
    "            print(n,\"isn't a Prime Number\")\n",
    "\n",
    "isPrime(5)\n",
    "isPrime(2)\n",
    "isPrime(4)"
   ]
  },
  {
   "cell_type": "code",
   "execution_count": 65,
   "metadata": {},
   "outputs": [
    {
     "name": "stdout",
     "output_type": "stream",
     "text": [
      "{'Ali': 23, 'Saleha': 20, 'Ahsan': 22}\n"
     ]
    }
   ],
   "source": [
    "# Question 3 \n",
    "\n",
    "mystery = {'Ali': 22, 'Saleha': 19, 'Ahsan': 21}\n",
    "def ageing(dict):\n",
    "    for i in mystery.keys():\n",
    "        mystery[i] += 1\n",
    "    return print(mystery)\n",
    "\n",
    "ageing(mystery)"
   ]
  },
  {
   "cell_type": "code",
   "execution_count": 44,
   "metadata": {},
   "outputs": [
    {
     "name": "stdout",
     "output_type": "stream",
     "text": [
      "Student ID: 666666\n",
      "CSC1 C\n",
      "CSC2 F\n",
      "CSC46 E\n",
      "MTH121 A+\n"
     ]
    }
   ],
   "source": [
    "# Question 4 \n",
    "\n",
    "student_id = input(\"Enter your Student ID:\")\n",
    "courses = open('Classes.txt','r')\n",
    "print(\"Student ID:\",student_id)\n",
    "for course in courses:\n",
    "    course = course.rstrip()\n",
    "\n",
    "    lines=open(course+\".txt\",'r')\n",
    "    for line in lines:\n",
    "        parts = line.split()\n",
    "        if student_id == parts[0]:\n",
    "            print(course,parts[1])\n",
    "    lines.close()\n",
    "\n",
    "courses.close()"
   ]
  }
 ],
 "metadata": {
  "interpreter": {
   "hash": "2d6a15abcc8b33eefd0a4bf8ece12874120c0c51d0ba4c77cc8fa3a0f491b6db"
  },
  "kernelspec": {
   "display_name": "Python 3.10.2 64-bit (windows store)",
   "language": "python",
   "name": "python3"
  },
  "language_info": {
   "codemirror_mode": {
    "name": "ipython",
    "version": 3
   },
   "file_extension": ".py",
   "mimetype": "text/x-python",
   "name": "python",
   "nbconvert_exporter": "python",
   "pygments_lexer": "ipython3",
   "version": "3.10.2"
  },
  "orig_nbformat": 4
 },
 "nbformat": 4,
 "nbformat_minor": 2
}
