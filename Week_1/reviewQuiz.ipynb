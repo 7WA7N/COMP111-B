{
 "cells": [
  {
   "cell_type": "code",
   "execution_count": null,
   "metadata": {},
   "outputs": [],
   "source": [
    "# 231522965\n",
    "# Muhammad Ali Awan\n",
    "# COMP-111-B\n",
    "# Week 1 "
   ]
  },
  {
   "cell_type": "code",
   "execution_count": null,
   "metadata": {},
   "outputs": [],
   "source": [
    "\n",
    "#! Question 1 \n",
    "# Write a short Python function,\n",
    "# isMultiple(n,m), which takes two integer values \n",
    "# and returns True if n is a multiple of m, \n",
    "# so n = m*i for some integer i and \n",
    "# False otherwise. \n",
    "\n",
    "\n",
    "def isMultiple(n,m):\n",
    "    if n % m == 0:\n",
    "        return print(True)\n",
    "    else: \n",
    "        return print(False)\n",
    "isMultiple(8,2) "
   ]
  },
  {
   "cell_type": "code",
   "execution_count": null,
   "metadata": {},
   "outputs": [],
   "source": [
    "\n",
    "#! Question 2 \n",
    "# The sum of all even numbers \n",
    "# between 2 and 100 (inclusive).\n",
    "\n",
    "def sumAllEven():\n",
    "    sum = 0\n",
    "    for x in range(2,102,2):\n",
    "        sum += x \n",
    "    return sum\n",
    "sumAllEven()"
   ]
  },
  {
   "cell_type": "code",
   "execution_count": null,
   "metadata": {},
   "outputs": [],
   "source": [
    "\n",
    "#! Question 3 \n",
    "# Write down the sum of all squares between\n",
    "# 1 and 100, inclusive. Using a function. \n",
    "\n",
    "def sumOfsquares():\n",
    "    total = 0 \n",
    "    for x in range(1,101):\n",
    "        square = x*x\n",
    "        total = total + square\n",
    "    return print(total)\n",
    "sumOfsquares()"
   ]
  },
  {
   "cell_type": "code",
   "execution_count": null,
   "metadata": {},
   "outputs": [],
   "source": [
    "\n",
    "#! Question 4 \n",
    "# The sum of all Odd Numbers, between\n",
    "# a and b, inclusive. \n",
    "\n",
    "def sumOfOdds(a,b):\n",
    "    total = 0 \n",
    "    for x in range(a,b+1):\n",
    "        if x % 2 != 0:\n",
    "            total += x\n",
    "    return total\n",
    "\n",
    "sumOfOdds(1,100)"
   ]
  }
 ],
 "metadata": {
  "interpreter": {
   "hash": "2d6a15abcc8b33eefd0a4bf8ece12874120c0c51d0ba4c77cc8fa3a0f491b6db"
  },
  "kernelspec": {
   "display_name": "Python 3.10.4 64-bit (windows store)",
   "language": "python",
   "name": "python3"
  },
  "language_info": {
   "name": "python",
   "version": "3.10.4"
  },
  "orig_nbformat": 4
 },
 "nbformat": 4,
 "nbformat_minor": 2
}
