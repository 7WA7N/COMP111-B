{
 "cells": [
  {
   "cell_type": "code",
   "execution_count": 15,
   "metadata": {},
   "outputs": [
    {
     "name": "stdout",
     "output_type": "stream",
     "text": [
      "202\n"
     ]
    }
   ],
   "source": [
    "def wc(file):\n",
    "    file = input(\"Enter filename:\")\n",
    "\n",
    "    textfile = open(file,'r')\n",
    "    file_information = textfile.read()\n",
    "\n",
    "    lineCount = 0\n",
    "    wordCount = 0\n",
    "    characterCount = 0 \n",
    "    \n",
    "    for characterCount in file_information:\n",
    "        characterCount += 1 \n",
    "        if characterCount.isspace():\n",
    "            wordCount += 1 \n",
    "        if characterCount == '\\n':\n",
    "            lineCount += 1 \n",
    "    \n",
    "    print(f'Lines:{lineCount},\\nWords:{wordCount},\\ncharacterCount:{characterCount}')"
   ]
  }
 ],
 "metadata": {
  "interpreter": {
   "hash": "2d6a15abcc8b33eefd0a4bf8ece12874120c0c51d0ba4c77cc8fa3a0f491b6db"
  },
  "kernelspec": {
   "display_name": "Python 3.10.3 64-bit (windows store)",
   "language": "python",
   "name": "python3"
  },
  "language_info": {
   "codemirror_mode": {
    "name": "ipython",
    "version": 3
   },
   "file_extension": ".py",
   "mimetype": "text/x-python",
   "name": "python",
   "nbconvert_exporter": "python",
   "pygments_lexer": "ipython3",
   "version": "3.10.3"
  },
  "orig_nbformat": 4
 },
 "nbformat": 4,
 "nbformat_minor": 2
}
