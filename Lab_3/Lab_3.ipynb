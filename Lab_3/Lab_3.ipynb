{
 "cells": [
  {
   "cell_type": "code",
   "execution_count": 6,
   "metadata": {},
   "outputs": [],
   "source": [
    "def recursiveC(n,k):\n",
    "    # base cases \n",
    "    if k == 0: \n",
    "        return 1 \n",
    "    if k == 1:\n",
    "        return n\n",
    "    if n < k:\n",
    "        return 0\n",
    "    # recursive cases \n",
    "    return recursiveC(n-1,k-1)"
   ]
  }
 ],
 "metadata": {
  "interpreter": {
   "hash": "2d6a15abcc8b33eefd0a4bf8ece12874120c0c51d0ba4c77cc8fa3a0f491b6db"
  },
  "kernelspec": {
   "display_name": "Python 3.10.4 64-bit (windows store)",
   "language": "python",
   "name": "python3"
  },
  "language_info": {
   "codemirror_mode": {
    "name": "ipython",
    "version": 3
   },
   "file_extension": ".py",
   "mimetype": "text/x-python",
   "name": "python",
   "nbconvert_exporter": "python",
   "pygments_lexer": "ipython3",
   "version": "3.10.4"
  },
  "orig_nbformat": 4
 },
 "nbformat": 4,
 "nbformat_minor": 2
}
